{
 "cells": [
  {
   "cell_type": "code",
   "execution_count": null,
   "id": "a23c6fc1",
   "metadata": {},
   "outputs": [],
   "source": [
    "import numpy as np\n",
    "import qutip as qt\n",
    "\n",
    "import matplotlib.pyplot as plt"
   ]
  },
  {
   "cell_type": "raw",
   "id": "a87e7915",
   "metadata": {},
   "source": [
    "!pip install qutip"
   ]
  },
  {
   "cell_type": "code",
   "execution_count": null,
   "id": "72ce3a4d",
   "metadata": {},
   "outputs": [],
   "source": [
    "print(qt.__version__)"
   ]
  },
  {
   "cell_type": "markdown",
   "id": "88a0e534",
   "metadata": {},
   "source": [
    "## Creating and inspecting quantum objects\n",
    "\n",
    "We can create a new quantum object using the `Qobj` class constructor, like this:"
   ]
  },
  {
   "cell_type": "code",
   "execution_count": null,
   "id": "3ad2dd7e",
   "metadata": {},
   "outputs": [],
   "source": [
    "q = qt.Qobj([[1], [0]])\n",
    "\n",
    "q"
   ]
  },
  {
   "cell_type": "code",
   "execution_count": null,
   "id": "618b5f69",
   "metadata": {},
   "outputs": [],
   "source": [
    "# the dimension, or composite Hilbert state space structure\n",
    "q.dims"
   ]
  },
  {
   "cell_type": "code",
   "execution_count": null,
   "id": "3b02df0e",
   "metadata": {},
   "outputs": [],
   "source": [
    "# the shape of the matrix data representation\n",
    "q.shape"
   ]
  },
  {
   "cell_type": "code",
   "execution_count": null,
   "id": "0e88f762",
   "metadata": {},
   "outputs": [],
   "source": [
    "# the matrix data itself. in sparse matrix format.\n",
    "q.data"
   ]
  },
  {
   "cell_type": "code",
   "execution_count": null,
   "id": "94edf0f8",
   "metadata": {},
   "outputs": [],
   "source": [
    "# get the dense matrix representation\n",
    "q.full()"
   ]
  },
  {
   "cell_type": "code",
   "execution_count": null,
   "id": "61cc252e",
   "metadata": {},
   "outputs": [],
   "source": [
    "# some additional properties\n",
    "# .isherm -> Hermitian\n",
    "q.isherm, q.type"
   ]
  },
  {
   "cell_type": "markdown",
   "id": "b83fc515",
   "metadata": {},
   "source": [
    "## Using `Qobj` instances for calculations\n",
    "\n",
    "With `Qobj` instances we can do arithmetic and apply a number of different operations using class methods:"
   ]
  },
  {
   "cell_type": "code",
   "execution_count": null,
   "id": "673e7eb2",
   "metadata": {},
   "outputs": [],
   "source": [
    "sy = qt.Qobj([[0, -1j], [1j, 0]])  # the sigma-y Pauli operator\n",
    "\n",
    "sy"
   ]
  },
  {
   "cell_type": "code",
   "execution_count": null,
   "id": "13b412b4",
   "metadata": {},
   "outputs": [],
   "source": [
    "sz = qt.Qobj([[1, 0], [0, -1]])  # the sigma-z Pauli operator\n",
    "\n",
    "sz"
   ]
  },
  {
   "cell_type": "code",
   "execution_count": null,
   "id": "62cb1c3d",
   "metadata": {},
   "outputs": [],
   "source": [
    "# some arithmetic with quantum objects\n",
    "\n",
    "H = 1.0 * sz + 0.1 * sy\n",
    "\n",
    "print(\"Qubit Hamiltonian = \\n\")\n",
    "H"
   ]
  },
  {
   "cell_type": "markdown",
   "id": "f5b8a5a2",
   "metadata": {},
   "source": [
    "Example of modifying quantum objects using the `Qobj` methods:"
   ]
  },
  {
   "cell_type": "code",
   "execution_count": null,
   "id": "85366340",
   "metadata": {},
   "outputs": [],
   "source": [
    "# The hermitian conjugate\n",
    "sy.dag()"
   ]
  },
  {
   "cell_type": "code",
   "execution_count": null,
   "id": "989ec5f3",
   "metadata": {},
   "outputs": [],
   "source": [
    "# The trace\n",
    "H.tr()"
   ]
  },
  {
   "cell_type": "code",
   "execution_count": null,
   "id": "55c23fbf",
   "metadata": {},
   "outputs": [],
   "source": [
    "# Eigen energies\n",
    "H.eigenenergies()"
   ]
  },
  {
   "cell_type": "markdown",
   "id": "b4bdf45c",
   "metadata": {},
   "source": [
    "## States"
   ]
  },
  {
   "cell_type": "markdown",
   "id": "06b1eb56",
   "metadata": {},
   "source": [
    "### State vectors"
   ]
  },
  {
   "cell_type": "code",
   "execution_count": null,
   "id": "aa035a5c",
   "metadata": {},
   "outputs": [],
   "source": [
    "# Fundamental basis states (Fock states of oscillator modes)\n",
    "\n",
    "N = 2  # number of states in the Hilbert space\n",
    "n = 1  # the state that will be occupied\n",
    "\n",
    "qt.basis(N, n)  # equivalent to fock(N, n)"
   ]
  },
  {
   "cell_type": "code",
   "execution_count": null,
   "id": "233c9900",
   "metadata": {},
   "outputs": [],
   "source": [
    "qt.fock(4, 2)  # another example"
   ]
  },
  {
   "cell_type": "code",
   "execution_count": null,
   "id": "19040773",
   "metadata": {},
   "outputs": [],
   "source": [
    "# a coherent state\n",
    "qt.coherent(N=10, alpha=1.0)"
   ]
  },
  {
   "cell_type": "markdown",
   "id": "7511d82f",
   "metadata": {},
   "source": [
    "### Density matrices"
   ]
  },
  {
   "cell_type": "code",
   "execution_count": null,
   "id": "04b8b4f0",
   "metadata": {},
   "outputs": [],
   "source": [
    "# a fock state as density matrix\n",
    "qt.fock_dm(5, 2)  # 5 = hilbert space size, 2 = state that is occupied"
   ]
  },
  {
   "cell_type": "code",
   "execution_count": null,
   "id": "18d4e139",
   "metadata": {},
   "outputs": [],
   "source": [
    "# coherent state as density matrix\n",
    "qt.coherent_dm(N=8, alpha=1.0)"
   ]
  },
  {
   "cell_type": "code",
   "execution_count": null,
   "id": "03bc0d09",
   "metadata": {},
   "outputs": [],
   "source": [
    "# thermal state\n",
    "n = 1  # average number of thermal photons\n",
    "qt.thermal_dm(8, n)"
   ]
  },
  {
   "cell_type": "markdown",
   "id": "07514a08",
   "metadata": {},
   "source": [
    "## Operators"
   ]
  },
  {
   "cell_type": "markdown",
   "id": "761a945d",
   "metadata": {},
   "source": [
    "### Qubit (two-level system) operators"
   ]
  },
  {
   "cell_type": "code",
   "execution_count": null,
   "id": "5a4f242d",
   "metadata": {},
   "outputs": [],
   "source": [
    "# Pauli sigma x\n",
    "qt.sigmax()"
   ]
  },
  {
   "cell_type": "code",
   "execution_count": null,
   "id": "4d979d66",
   "metadata": {},
   "outputs": [],
   "source": [
    "# Pauli sigma y\n",
    "qt.sigmay()"
   ]
  },
  {
   "cell_type": "code",
   "execution_count": null,
   "id": "66174951",
   "metadata": {},
   "outputs": [],
   "source": [
    "# Pauli sigma z\n",
    "qt.sigmaz()"
   ]
  },
  {
   "cell_type": "markdown",
   "id": "b07a790c",
   "metadata": {},
   "source": [
    "### Harmonic oscillator operators"
   ]
  },
  {
   "cell_type": "code",
   "execution_count": null,
   "id": "406e4f74",
   "metadata": {},
   "outputs": [],
   "source": [
    "#  annihilation operator\n",
    "\n",
    "qt.destroy(N=8)  # N = number of fock states included in the Hilbert space"
   ]
  },
  {
   "cell_type": "code",
   "execution_count": null,
   "id": "3001c244",
   "metadata": {},
   "outputs": [],
   "source": [
    "# creation operator\n",
    "\n",
    "qt.create(N=8)  # equivalent to destroy(5).dag()"
   ]
  },
  {
   "cell_type": "code",
   "execution_count": null,
   "id": "a76f6000",
   "metadata": {},
   "outputs": [],
   "source": [
    "# the position operator is easily constructed from the annihilation operator\n",
    "a = qt.destroy(8)\n",
    "\n",
    "x = a + a.dag()\n",
    "\n",
    "x"
   ]
  },
  {
   "cell_type": "markdown",
   "id": "57ce2802",
   "metadata": {},
   "source": [
    "### Using `Qobj` instances we can check some well known commutation relations:"
   ]
  },
  {
   "cell_type": "code",
   "execution_count": null,
   "id": "731cf430",
   "metadata": {},
   "outputs": [],
   "source": [
    "def commutator(op1, op2):\n",
    "    return op1 * op2 - op2 * op1"
   ]
  },
  {
   "cell_type": "code",
   "execution_count": null,
   "id": "e0a162cb",
   "metadata": {},
   "outputs": [],
   "source": [
    "a = qt.destroy(5)\n",
    "\n",
    "commutator(a, a.dag())"
   ]
  },
  {
   "cell_type": "markdown",
   "id": "867f25c6",
   "metadata": {},
   "source": [
    "**Ops**... The result is not identity! Why? Because we have truncated the Hilbert space. But that's OK as long as the highest Fock state isn't involved in the dynamics in our truncated Hilbert space. If it is, the approximation that the truncation introduces might be a problem."
   ]
  },
  {
   "cell_type": "markdown",
   "id": "f5d59e4d",
   "metadata": {},
   "source": [
    "$[x,p]=i$"
   ]
  },
  {
   "cell_type": "code",
   "execution_count": null,
   "id": "6fa2a802",
   "metadata": {},
   "outputs": [],
   "source": [
    "x = (a + a.dag()) / np.sqrt(2)\n",
    "p = -1j * (a - a.dag()) / np.sqrt(2)"
   ]
  },
  {
   "cell_type": "code",
   "execution_count": null,
   "id": "80cb69a6",
   "metadata": {},
   "outputs": [],
   "source": [
    "commutator(x, p)"
   ]
  },
  {
   "cell_type": "markdown",
   "id": "8db45910",
   "metadata": {},
   "source": [
    "Same issue with the truncated Hilbert space, but otherwise OK."
   ]
  },
  {
   "cell_type": "markdown",
   "id": "960a99bb",
   "metadata": {},
   "source": [
    "The term <span style=\"color: red\">\"truncated Hilbert space\"</span> refers to a reduced subspace of the full Hilbert space that is used to describe a quantum system. The full Hilbert space can be very large or even infinite-dimensional, depending on the system. Truncating or reducing this space can make certain calculations more tractable, especially in numerical simulations."
   ]
  },
  {
   "cell_type": "markdown",
   "id": "05824bb5",
   "metadata": {},
   "source": [
    "Let's try some Pauli spin inequalities\n",
    "\n",
    "$[\\sigma_{x}, \\sigma_{y}]=2 i \\sigma_{z}$"
   ]
  },
  {
   "cell_type": "code",
   "execution_count": null,
   "id": "fd1f94ea",
   "metadata": {},
   "outputs": [],
   "source": [
    "commutator(qt.sigmax(), qt.sigmay()) - 2j * qt.sigmaz()"
   ]
  },
  {
   "cell_type": "markdown",
   "id": "53a4c285",
   "metadata": {},
   "source": [
    "$-i \\sigma_{x}\\sigma_{y}\\sigma_{z}=1$"
   ]
  },
  {
   "cell_type": "code",
   "execution_count": null,
   "id": "09ff110d",
   "metadata": {},
   "outputs": [],
   "source": [
    "-1j * qt.sigmax() * qt.sigmay() * qt.sigmaz()"
   ]
  },
  {
   "cell_type": "markdown",
   "id": "f550b2ff",
   "metadata": {},
   "source": [
    "$\\sigma^{2}_{x}=\\sigma^{2}_{y}=\\sigma^{2}_{z}=\\mathbf{1}$"
   ]
  },
  {
   "cell_type": "code",
   "execution_count": null,
   "id": "57f2f32a",
   "metadata": {},
   "outputs": [],
   "source": [
    "qt.sigmax() ** 2 == qt.sigmay() ** 2 == qt.sigmaz() ** 2 == qt.qeye(2)"
   ]
  },
  {
   "cell_type": "markdown",
   "id": "371adb5f",
   "metadata": {},
   "source": [
    "## Composite systems"
   ]
  },
  {
   "cell_type": "markdown",
   "id": "aa0b75c4",
   "metadata": {},
   "source": [
    "In most cases we are interested in coupled quantum systems, for example coupled qubits, a qubit coupled to a cavity (oscillator mode), etc.\n",
    "\n",
    "To define states and operators for such systems in QuTiP, we use the `tensor` function to create `Qobj` instances for the composite system.\n",
    "\n",
    "For example, consider a system composed of two qubits. If we want to create a Pauli $\\sigma_{z}$ operator that acts on the first qubit and leaves the second qubit unaffected (i.e., the operator $\\sigma_{z} \\otimes \\mathbf{1}$, we would do:"
   ]
  },
  {
   "cell_type": "code",
   "execution_count": null,
   "id": "1c940069",
   "metadata": {},
   "outputs": [],
   "source": [
    "sz1 = qt.tensor(qt.sigmaz(), qt.qeye(2))\n",
    "\n",
    "sz1"
   ]
  },
  {
   "cell_type": "markdown",
   "id": "efd3081e",
   "metadata": {},
   "source": [
    "We can easily verify that this two-qubit operator does indeed have the desired properties:"
   ]
  },
  {
   "cell_type": "code",
   "execution_count": null,
   "id": "d7ad1309",
   "metadata": {},
   "outputs": [],
   "source": [
    "psi1 = qt.tensor(qt.basis(N, 1), qt.basis(N, 0))  # excited first qubit\n",
    "psi2 = qt.tensor(qt.basis(N, 0), qt.basis(N, 1))  # excited second qubit"
   ]
  },
  {
   "cell_type": "code",
   "execution_count": null,
   "id": "d689fb76",
   "metadata": {},
   "outputs": [],
   "source": [
    "# this should not be true,\n",
    "# because sz1 should flip the sign of the excited state of psi1\n",
    "sz1 * psi1 == psi1"
   ]
  },
  {
   "cell_type": "code",
   "execution_count": null,
   "id": "178cde4d",
   "metadata": {},
   "outputs": [],
   "source": [
    "# this should be true, because sz1 should leave psi2 unaffected\n",
    "sz1 * psi2 == psi2"
   ]
  },
  {
   "cell_type": "markdown",
   "id": "a92786a3",
   "metadata": {},
   "source": [
    "Above we used the `qeye(N)` function, which generates the identity operator with N quantum states. If we want to do the same thing for the second qubit we can do:"
   ]
  },
  {
   "cell_type": "code",
   "execution_count": null,
   "id": "04483ac2",
   "metadata": {},
   "outputs": [],
   "source": [
    "sz2 = qt.tensor(qt.qeye(2), qt.sigmaz())\n",
    "\n",
    "sz2"
   ]
  },
  {
   "cell_type": "markdown",
   "id": "adcca2c5",
   "metadata": {},
   "source": [
    "Note the order of the argument to the `tensor` function, and the correspondingly different matrix representation of the two operators `sz1` and `sz2`"
   ]
  },
  {
   "cell_type": "markdown",
   "id": "83547acd",
   "metadata": {},
   "source": [
    "Using the same method we can create coupling terms of the form $\\sigma_{x} \\otimes \\sigma_{x}$"
   ]
  },
  {
   "cell_type": "code",
   "execution_count": null,
   "id": "853838d8",
   "metadata": {},
   "outputs": [],
   "source": [
    "qt.tensor(qt.sigmax(), qt.sigmax())"
   ]
  },
  {
   "cell_type": "markdown",
   "id": "8f17ce97",
   "metadata": {},
   "source": [
    "Now we are ready to create a Qobj representation of a coupled two-qubit Hamiltonian: \n",
    "\n",
    "$$\n",
    "\\mathcal{H} = \\epsilon_{1} \\sigma^{(1)}_{z} + \\epsilon_{2} \\sigma^{(2)}_{z} + g \\sigma^{(1)}_{x} \\sigma^{(2)}_{x}\n",
    "$$"
   ]
  },
  {
   "cell_type": "code",
   "execution_count": null,
   "id": "414428d8",
   "metadata": {},
   "outputs": [],
   "source": [
    "epsilon = [1.0, 1.0]\n",
    "g = 0.1\n",
    "\n",
    "sz1 = qt.tensor(qt.sigmaz(), qt.qeye(2))\n",
    "sz2 = qt.tensor(qt.qeye(2), qt.sigmaz())\n",
    "\n",
    "H = epsilon[0] * sz1 + epsilon[1] * sz2 + g * qt.tensor(qt.sigmax(), qt.sigmax())\n",
    "\n",
    "H"
   ]
  },
  {
   "cell_type": "markdown",
   "id": "13b23518",
   "metadata": {},
   "source": [
    "To create composite systems of different types, all we need to do is to change the operators that we pass to the tensor function (which can take an arbitrary number of operator for composite systems with many components)."
   ]
  },
  {
   "cell_type": "markdown",
   "id": "b17b3a6a",
   "metadata": {},
   "source": [
    "To create composite systems of different types, all we need to do is to change the operators that we pass to the tensor function (which can take an arbitrary number of operator for composite systems with many components).\n",
    "\n",
    "$$\n",
    "\\mathcal{H} = \\omega_{c}a^{\\dagger}a - \\frac{1}{2}\\omega_{a}\\sigma_{z} + g (a \\sigma_{+} + a^{\\dagger}\\sigma_{-})\n",
    "$$"
   ]
  },
  {
   "cell_type": "code",
   "execution_count": null,
   "id": "5e8d2dc0",
   "metadata": {},
   "outputs": [],
   "source": [
    "wc = 1.0  # cavity frequency\n",
    "wa = 1.0  # qubit/atom frenqency\n",
    "g = 0.1  # coupling strength\n",
    "\n",
    "# cavity mode operator\n",
    "a = qt.tensor(qt.destroy(5), qt.qeye(2))\n",
    "\n",
    "# qubit/atom operators\n",
    "sz = qt.tensor(qt.qeye(5), qt.sigmaz())  # sigma-z operator\n",
    "sm = qt.tensor(qt.qeye(5), qt.destroy(2))  # sigma-minus operator\n",
    "\n",
    "# the Jaynes-Cumming Hamiltonian\n",
    "H = wc * a.dag() * a - 0.5 * wa * sz + g * (a * sm.dag() + a.dag() * sm)\n",
    "\n",
    "H"
   ]
  },
  {
   "cell_type": "markdown",
   "id": "4e5ba8de",
   "metadata": {},
   "source": [
    "Note that\n",
    "$$\n",
    "a \\sigma_{+} = (a \\otimes \\mathbf{1})(\\mathbf{1} \\otimes \\sigma_{+})\n",
    "$$\n",
    "\n",
    "so the following two are identical:"
   ]
  },
  {
   "cell_type": "code",
   "execution_count": null,
   "id": "add06bde",
   "metadata": {},
   "outputs": [],
   "source": [
    "a = qt.tensor(qt.destroy(3), qt.qeye(2))\n",
    "sp = qt.tensor(qt.qeye(3), qt.create(2))\n",
    "\n",
    "a * sp"
   ]
  },
  {
   "cell_type": "code",
   "execution_count": null,
   "id": "71a453e0",
   "metadata": {},
   "outputs": [],
   "source": [
    "qt.tensor(qt.destroy(3), qt.create(2))"
   ]
  },
  {
   "cell_type": "markdown",
   "id": "cf265517",
   "metadata": {},
   "source": [
    "## Unitary dynamics\n",
    "\n",
    "Unitary evolution of a quantum system in QuTiP can be calculated with the `mesolve` function.\n",
    "\n",
    "`mesolve` is short for Master-eqaution solve (for dissipative dynamics), but if no collapse operators (which describe the dissipation) are given to the solve it falls back on the unitary evolution of the Schrodinger (for initial states in state vector for) or the von Neuman equation (for initial states in density matrix form).\n",
    "\n",
    "The evolution solvers in QuTiP returns a class of type `Odedata`, which contains the solution to the problem posed to the evolution solver.\n",
    "\n",
    "For example, considor a qubit with Hamiltonian $\\mathcal{H} = \\sigma_{x}$ and initial state $|1\\rangle$ (in the sigma-z basis): Its evolution can be calculated as follows:"
   ]
  },
  {
   "cell_type": "code",
   "execution_count": null,
   "id": "9fa7d674",
   "metadata": {},
   "outputs": [],
   "source": [
    "# Hamiltonian\n",
    "H = qt.sigmax()\n",
    "\n",
    "# initial state\n",
    "psi0 = qt.basis(2, 0)\n",
    "\n",
    "# list of times for which the solver should store the state vector\n",
    "tlist = np.linspace(0, 10, 100)\n",
    "\n",
    "result = qt.mesolve(H, psi0, tlist, [], [])"
   ]
  },
  {
   "cell_type": "code",
   "execution_count": null,
   "id": "f9dcc48d",
   "metadata": {},
   "outputs": [],
   "source": [
    "result"
   ]
  },
  {
   "cell_type": "markdown",
   "id": "f2725c06",
   "metadata": {},
   "source": [
    "The `result` object contains a list of the wavefunctions at the times requested with the `tlist` array."
   ]
  },
  {
   "cell_type": "code",
   "execution_count": null,
   "id": "84f3bd59",
   "metadata": {},
   "outputs": [],
   "source": [
    "len(result.states)"
   ]
  },
  {
   "cell_type": "code",
   "execution_count": null,
   "id": "a154c2fd",
   "metadata": {},
   "outputs": [],
   "source": [
    "result.states[-1]  # the finial state"
   ]
  },
  {
   "cell_type": "markdown",
   "id": "6b0b8597",
   "metadata": {},
   "source": [
    "## Expectation values"
   ]
  },
  {
   "cell_type": "markdown",
   "id": "d0263908",
   "metadata": {},
   "source": [
    "The expectation values of an operator given a state vector or density matrix (or list thereof) can be calculated using the expect function."
   ]
  },
  {
   "cell_type": "code",
   "execution_count": null,
   "id": "ba78892f",
   "metadata": {},
   "outputs": [],
   "source": [
    "qt.expect(qt.sigmaz(), result.states[-1])"
   ]
  },
  {
   "cell_type": "code",
   "execution_count": null,
   "id": "202cbeff",
   "metadata": {},
   "outputs": [],
   "source": [
    "qt.expect(qt.sigmaz(), result.states)"
   ]
  },
  {
   "cell_type": "code",
   "execution_count": null,
   "id": "e292156b",
   "metadata": {},
   "outputs": [],
   "source": [
    "fig = plt.figure(figsize=(4.3, 3.5))\n",
    "\n",
    "plt.plot(tlist, qt.expect(qt.sigmaz(), result.states))\n",
    "\n",
    "plt.xlabel(r\"$t$\", fontsize=15)\n",
    "plt.ylabel(r\"$\\left<\\sigma_z\\right>$\", fontsize=15)\n",
    "\n",
    "plt.show()"
   ]
  },
  {
   "cell_type": "markdown",
   "id": "73edb1dc",
   "metadata": {},
   "source": [
    "If we are only interested in expectation values, we could pass a list of operators to the `mesolve` function that we want expectation values for, and have the solver compute then and store the results in the `Odedata` class instance that it returns."
   ]
  },
  {
   "cell_type": "markdown",
   "id": "10b1185c",
   "metadata": {},
   "source": [
    "For example, to request that the solver calculates the expectation values for the operators $\\sigma_{x}, \\sigma_{y}, \\sigma_{z}$"
   ]
  },
  {
   "cell_type": "code",
   "execution_count": null,
   "id": "1172ab51",
   "metadata": {},
   "outputs": [],
   "source": [
    "result = qt.mesolve(H, psi0, tlist, [], [qt.sigmax(), qt.sigmay(), qt.sigmaz()])"
   ]
  },
  {
   "cell_type": "markdown",
   "id": "509c6358",
   "metadata": {},
   "source": [
    "Now the expectation values are available in `result.expect[0]`, `result.expect[1]`, and `result.expect[2]`"
   ]
  },
  {
   "cell_type": "code",
   "execution_count": null,
   "id": "18d1e1cd",
   "metadata": {},
   "outputs": [],
   "source": [
    "fig, axes = plt.subplots(1, 1)\n",
    "\n",
    "axes.plot(tlist, result.expect[2], label=r\"$\\left<\\sigma_z\\right>$\")\n",
    "axes.plot(tlist, result.expect[1], label=r\"$\\left<\\sigma_y\\right>$\")\n",
    "axes.plot(tlist, result.expect[0], label=r\"$\\left<\\sigma_x\\right>$\")\n",
    "\n",
    "axes.set_xlabel(r\"$t$\", fontsize=20)\n",
    "axes.legend(loc=2)\n",
    "\n",
    "plt.show()"
   ]
  },
  {
   "cell_type": "markdown",
   "id": "2745b561",
   "metadata": {},
   "source": [
    "## Dissipative dynamics\n",
    "\n",
    "To add dissipation to a problem, all we need to do is to define a list of collapse operators to the call to the mesolve solver.\n",
    "\n",
    "A collapse operator is an operator that describes how the system is interacting with its environment.\n",
    "\n",
    "For example, consider a quantum harmonic oscillator with Hamiltonian\n",
    "\n",
    "$$\n",
    "\\mathcal{H} = \\hbar \\omega a^{\\dagger}a\n",
    "$$\n",
    "\n",
    "and which loses photons to its environment with a relaxation rate $\\kappa$. The collapse operator that describes this process is\n",
    "\n",
    "$$\n",
    "\\sqrt{\\kappa}a\n",
    "$$\n",
    "\n",
    "since $a$ is the photon annihilation operator of the oscillator."
   ]
  },
  {
   "cell_type": "code",
   "execution_count": null,
   "id": "f3c6aeb3",
   "metadata": {},
   "outputs": [],
   "source": [
    "w = 1.0  # oscillator frequency\n",
    "kappa = 0.1  # relaxation rate\n",
    "a = qt.destroy(10)  # oscillator annihilation operator\n",
    "rho0 = qt.fock_dm(10, 5)  # initial state, fock state with 5 photons\n",
    "H = w * a.dag() * a  # Hamiltonian\n",
    "\n",
    "# A list of collapse operators\n",
    "c_ops = [np.sqrt(kappa) * a]"
   ]
  },
  {
   "cell_type": "code",
   "execution_count": null,
   "id": "18878419",
   "metadata": {},
   "outputs": [],
   "source": [
    "tlist = np.linspace(0, 50, 100)\n",
    "\n",
    "# request that the solver return the expectation value\n",
    "# of the photon number state operator a.dag() * a\n",
    "result = qt.mesolve(H, rho0, tlist, c_ops, [a.dag() * a])"
   ]
  },
  {
   "cell_type": "code",
   "execution_count": null,
   "id": "4c7749b8",
   "metadata": {},
   "outputs": [],
   "source": [
    "fig, axes = plt.subplots(1, 1)\n",
    "axes.plot(tlist, result.expect[0])\n",
    "axes.set_xlabel(r\"$t$\", fontsize=20)\n",
    "axes.set_ylabel(r\"Photon number\", fontsize=16)\n",
    "\n",
    "plt.show()"
   ]
  },
  {
   "cell_type": "code",
   "execution_count": null,
   "id": "2b7a859d",
   "metadata": {},
   "outputs": [],
   "source": [
    "qt.about()"
   ]
  },
  {
   "cell_type": "code",
   "execution_count": null,
   "id": "f70f5f86",
   "metadata": {},
   "outputs": [],
   "source": []
  }
 ],
 "metadata": {
  "kernelspec": {
   "display_name": "Python 3 (ipykernel)",
   "language": "python",
   "name": "python3"
  },
  "language_info": {
   "codemirror_mode": {
    "name": "ipython",
    "version": 3
   },
   "file_extension": ".py",
   "mimetype": "text/x-python",
   "name": "python",
   "nbconvert_exporter": "python",
   "pygments_lexer": "ipython3",
   "version": "3.11.4"
  }
 },
 "nbformat": 4,
 "nbformat_minor": 5
}
