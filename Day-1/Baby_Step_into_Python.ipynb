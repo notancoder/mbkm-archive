{
 "cells": [
  {
   "cell_type": "markdown",
   "id": "9b4d0d1b",
   "metadata": {},
   "source": [
    "# Baby step into Python"
   ]
  },
  {
   "cell_type": "markdown",
   "id": "29c05a01",
   "metadata": {},
   "source": [
    "## Basic math"
   ]
  },
  {
   "cell_type": "markdown",
   "id": "b970e8d2",
   "metadata": {},
   "source": [
    "the `func:print` to get the output"
   ]
  },
  {
   "cell_type": "code",
   "execution_count": 1,
   "id": "aa417e02",
   "metadata": {},
   "outputs": [
    {
     "name": "stdout",
     "output_type": "stream",
     "text": [
      "6\n",
      "3.0999999999999996\n"
     ]
    }
   ],
   "source": [
    "print(2 + 4)\n",
    "print(8.1 - 5)"
   ]
  },
  {
   "cell_type": "markdown",
   "id": "2fe88a7d",
   "metadata": {},
   "source": [
    "Multiplication "
   ]
  },
  {
   "cell_type": "code",
   "execution_count": 2,
   "id": "28b47bca",
   "metadata": {},
   "outputs": [
    {
     "name": "stdout",
     "output_type": "stream",
     "text": [
      "20\n",
      "6.2\n"
     ]
    }
   ],
   "source": [
    "print(5 * 4)\n",
    "print(3.1 * 2)"
   ]
  },
  {
   "cell_type": "markdown",
   "id": "4053a4aa",
   "metadata": {},
   "source": [
    "Division is almost as straightforward, but we have to remember that integer division is not the same as float division. Let us consider float division first."
   ]
  },
  {
   "cell_type": "code",
   "execution_count": null,
   "id": "10d9398d",
   "metadata": {},
   "outputs": [],
   "source": [
    "print(4.0 / 2.0)\n",
    "print(1.0 / 3.1)"
   ]
  },
  {
   "cell_type": "markdown",
   "id": "e14a555a",
   "metadata": {},
   "source": [
    "Now, consider the integer versions:"
   ]
  },
  {
   "cell_type": "code",
   "execution_count": 3,
   "id": "6f4b0767",
   "metadata": {},
   "outputs": [
    {
     "name": "stdout",
     "output_type": "stream",
     "text": [
      "2.0\n",
      "0.3333333333333333\n"
     ]
    }
   ],
   "source": [
    "print(4 / 2)\n",
    "print(1 / 3)"
   ]
  },
  {
   "cell_type": "markdown",
   "id": "2a19804d",
   "metadata": {},
   "source": [
    "In Python3 division now is automatically float division. You can do integer division with the `//` operator like this."
   ]
  },
  {
   "cell_type": "code",
   "execution_count": 4,
   "id": "ac290371",
   "metadata": {},
   "outputs": [
    {
     "name": "stdout",
     "output_type": "stream",
     "text": [
      "2\n",
      "0\n"
     ]
    }
   ],
   "source": [
    "print(4 // 2)\n",
    "print(1 // 3)"
   ]
  },
  {
   "cell_type": "markdown",
   "id": "51176116",
   "metadata": {},
   "source": [
    "Exponentiation is also a basic math operation that python supports directly."
   ]
  },
  {
   "cell_type": "code",
   "execution_count": 5,
   "id": "6252aa25",
   "metadata": {},
   "outputs": [
    {
     "name": "stdout",
     "output_type": "stream",
     "text": [
      "9.0\n",
      "9\n",
      "1.4142135623730951\n"
     ]
    }
   ],
   "source": [
    "print(3.**2)\n",
    "print(3**2)\n",
    "print(2**0.5)"
   ]
  },
  {
   "cell_type": "markdown",
   "id": "bbeaf315",
   "metadata": {},
   "source": [
    "## Advanced mathematical operators"
   ]
  },
  {
   "cell_type": "markdown",
   "id": "39dd5947",
   "metadata": {},
   "source": [
    "The primary library we will consider is `mod:numpy`, which provides many mathematical functions, statistics as well as support for linear algebra."
   ]
  },
  {
   "cell_type": "code",
   "execution_count": 6,
   "id": "0b93161f",
   "metadata": {},
   "outputs": [
    {
     "name": "stdout",
     "output_type": "stream",
     "text": [
      "1.4142135623730951\n"
     ]
    }
   ],
   "source": [
    "import numpy as np\n",
    "print(np.sqrt(2))"
   ]
  },
  {
   "cell_type": "markdown",
   "id": "6680795a",
   "metadata": {},
   "source": [
    "### Exponential and logarithmic functions"
   ]
  },
  {
   "cell_type": "code",
   "execution_count": 7,
   "id": "b9fc2bd9",
   "metadata": {},
   "outputs": [
    {
     "name": "stdout",
     "output_type": "stream",
     "text": [
      "2.718281828459045\n"
     ]
    }
   ],
   "source": [
    "print(np.exp(1))"
   ]
  },
  {
   "cell_type": "markdown",
   "id": "0cb31f22",
   "metadata": {},
   "source": [
    "There are two logarithmic functions commonly used, the natural log function `func:numpy.log` and the base10 logarithm `func:numpy.log10`."
   ]
  },
  {
   "cell_type": "code",
   "execution_count": 8,
   "id": "5a10a039",
   "metadata": {},
   "outputs": [
    {
     "name": "stdout",
     "output_type": "stream",
     "text": [
      "2.302585092994046\n",
      "1.0\n"
     ]
    }
   ],
   "source": [
    "print(np.log(10))\n",
    "print(np.log10(10)) # base10"
   ]
  },
  {
   "cell_type": "markdown",
   "id": "a63b0886",
   "metadata": {},
   "source": [
    "## Creating your own functions"
   ]
  },
  {
   "cell_type": "markdown",
   "id": "636c2a67",
   "metadata": {},
   "source": [
    "We can combine operations to evaluate complex equations. Consider the value of the equation $x^3 - \\log{(x)}$ for the value $x=4.1$"
   ]
  },
  {
   "cell_type": "code",
   "execution_count": 9,
   "id": "09362306",
   "metadata": {},
   "outputs": [
    {
     "name": "stdout",
     "output_type": "stream",
     "text": [
      "25.90138771133189\n"
     ]
    }
   ],
   "source": [
    "x = 3\n",
    "print(x**3 - np.log(x))"
   ]
  },
  {
   "cell_type": "markdown",
   "id": "97493c13",
   "metadata": {},
   "source": [
    "how to express this equation as a new function, which we can call with different values."
   ]
  },
  {
   "cell_type": "code",
   "execution_count": 10,
   "id": "7ef4a1dd",
   "metadata": {},
   "outputs": [
    {
     "name": "stdout",
     "output_type": "stream",
     "text": [
      "25.90138771133189\n",
      "131.0217594602697\n"
     ]
    }
   ],
   "source": [
    "def f(x):\n",
    "    return x**3 - np.log(x)\n",
    "\n",
    "print(f(3))\n",
    "print(f(5.1))"
   ]
  },
  {
   "cell_type": "markdown",
   "id": "f20c0135",
   "metadata": {},
   "source": [
    "## Defining functions in python "
   ]
  },
  {
   "cell_type": "code",
   "execution_count": 11,
   "id": "7df2edd8",
   "metadata": {},
   "outputs": [
    {
     "name": "stdout",
     "output_type": "stream",
     "text": [
      "0.1111111111111111\n"
     ]
    },
    {
     "ename": "TypeError",
     "evalue": "unsupported operand type(s) for ** or pow(): 'list' and 'int'",
     "output_type": "error",
     "traceback": [
      "\u001b[1;31m---------------------------------------------------------------------------\u001b[0m",
      "\u001b[1;31mTypeError\u001b[0m                                 Traceback (most recent call last)",
      "Cell \u001b[1;32mIn[11], line 6\u001b[0m\n\u001b[0;32m      3\u001b[0m     \u001b[38;5;28;01mreturn\u001b[39;00m \u001b[38;5;241m1.0\u001b[39m\u001b[38;5;241m/\u001b[39mx\u001b[38;5;241m*\u001b[39m\u001b[38;5;241m*\u001b[39m\u001b[38;5;241m2\u001b[39m\n\u001b[0;32m      5\u001b[0m \u001b[38;5;28mprint\u001b[39m(f(\u001b[38;5;241m3\u001b[39m))\n\u001b[1;32m----> 6\u001b[0m \u001b[38;5;28mprint\u001b[39m(f([\u001b[38;5;241m4\u001b[39m,\u001b[38;5;241m5\u001b[39m]))\n",
      "Cell \u001b[1;32mIn[11], line 3\u001b[0m, in \u001b[0;36mf\u001b[1;34m(x)\u001b[0m\n\u001b[0;32m      1\u001b[0m \u001b[38;5;28;01mdef\u001b[39;00m \u001b[38;5;21mf\u001b[39m(x):\n\u001b[0;32m      2\u001b[0m     \u001b[38;5;124m'\u001b[39m\u001b[38;5;124mreturn the inverse square of x\u001b[39m\u001b[38;5;124m'\u001b[39m\n\u001b[1;32m----> 3\u001b[0m     \u001b[38;5;28;01mreturn\u001b[39;00m \u001b[38;5;241m1.0\u001b[39m\u001b[38;5;241m/\u001b[39mx\u001b[38;5;241m*\u001b[39m\u001b[38;5;241m*\u001b[39m\u001b[38;5;241m2\u001b[39m\n",
      "\u001b[1;31mTypeError\u001b[0m: unsupported operand type(s) for ** or pow(): 'list' and 'int'"
     ]
    }
   ],
   "source": [
    "def f(x):\n",
    "    'return the inverse square of x'\n",
    "    return 1.0/x**2\n",
    "\n",
    "print(f(3))\n",
    "print(f([4,5]))"
   ]
  },
  {
   "cell_type": "markdown",
   "id": "95a3f13a",
   "metadata": {},
   "source": [
    "Note that functions are not automatically vectorized. That is why we see the error above. There are a few ways to achieve that. One is to \"cast\" the input variables to objects that support vectorized operations, such as numpy.array objects."
   ]
  },
  {
   "cell_type": "code",
   "execution_count": 12,
   "id": "66a054b1",
   "metadata": {},
   "outputs": [
    {
     "name": "stdout",
     "output_type": "stream",
     "text": [
      "0.1111111111111111\n",
      "[0.0625 0.04  ]\n"
     ]
    }
   ],
   "source": [
    "def f(x):\n",
    "    'return the inverse square of x'\n",
    "    x = np.array(x)\n",
    "    return 1.0/x**2\n",
    "\n",
    "print(f(3))\n",
    "print(f([4,5]))"
   ]
  },
  {
   "cell_type": "markdown",
   "id": "2c9fecd9",
   "metadata": {},
   "source": [
    "It is possible to have more than one variable."
   ]
  },
  {
   "cell_type": "code",
   "execution_count": 13,
   "id": "7ae772dd",
   "metadata": {},
   "outputs": [
    {
     "name": "stdout",
     "output_type": "stream",
     "text": [
      "6\n",
      "[ 6 12]\n"
     ]
    }
   ],
   "source": [
    "def func(x, y):\n",
    "    'return product of x and y'\n",
    "    return x *y\n",
    "\n",
    "print(func(2, 3))\n",
    "print(func(np.array([2, 3]), np.array([3, 4])))"
   ]
  },
  {
   "cell_type": "markdown",
   "id": "c23aac66",
   "metadata": {},
   "source": [
    "You can define \"`lambda`\" functions, which are also known as inline or anonymous functions. The syntax is lambda `var:f(var)`. I think these are hard to read and discourage their use. Here is a typical usage where you have to define a simple function that is passed to another function, e.g `scipy.integrate.quad` to perform an integral."
   ]
  },
  {
   "cell_type": "code",
   "execution_count": 14,
   "id": "3e67e898",
   "metadata": {},
   "outputs": [
    {
     "name": "stdout",
     "output_type": "stream",
     "text": [
      "20.249999999999996 2.2482016248659415e-13\n"
     ]
    }
   ],
   "source": [
    "from scipy.integrate import quad\n",
    "\n",
    "def integrand(x):\n",
    "    return x**3\n",
    "\n",
    "result, error = quad(integrand, 0, 3)\n",
    "print(result, error)"
   ]
  },
  {
   "cell_type": "code",
   "execution_count": 15,
   "id": "b393d1b0",
   "metadata": {},
   "outputs": [
    {
     "name": "stdout",
     "output_type": "stream",
     "text": [
      "20.249999999999996 2.2482016248659415e-13\n"
     ]
    }
   ],
   "source": [
    "integrand_lambda = lambda x:x**3\n",
    "result, error = quad(integrand_lambda, 0, 3)\n",
    "print(result, error)"
   ]
  },
  {
   "cell_type": "markdown",
   "id": "32b1a7a7",
   "metadata": {},
   "source": [
    "It is possible to nest functions inside of functions like this."
   ]
  },
  {
   "cell_type": "code",
   "execution_count": 16,
   "id": "2da1df89",
   "metadata": {},
   "outputs": [
    {
     "data": {
      "text/plain": [
       "16"
      ]
     },
     "execution_count": 16,
     "metadata": {},
     "output_type": "execute_result"
    }
   ],
   "source": [
    "def wrapper(x):\n",
    "    a = 4\n",
    "    def func(x,a):\n",
    "        return a*x\n",
    "    return func(x,a)\n",
    "\n",
    "wrapper(4)"
   ]
  },
  {
   "cell_type": "markdown",
   "id": "434d8596",
   "metadata": {},
   "source": [
    "An alternative approach is to \"wrap\" a function, say to fix a parameter. You might do this so you can integrate the wrapped function, which depends on only a single variable, whereas the original function depends on two variables."
   ]
  },
  {
   "cell_type": "code",
   "execution_count": 17,
   "id": "911cd976",
   "metadata": {},
   "outputs": [
    {
     "name": "stdout",
     "output_type": "stream",
     "text": [
      "16\n"
     ]
    }
   ],
   "source": [
    "def func(x, a):\n",
    "    return a * x\n",
    "\n",
    "def wrapper(x):\n",
    "    a = 4\n",
    "    return func(x, a)\n",
    "\n",
    "print(wrapper(4))"
   ]
  },
  {
   "cell_type": "code",
   "execution_count": 18,
   "id": "31b8c952",
   "metadata": {},
   "outputs": [
    {
     "name": "stdout",
     "output_type": "stream",
     "text": [
      "4\n",
      "6\n",
      "8\n"
     ]
    }
   ],
   "source": [
    "def func(a, n=2):\n",
    "    'compute the nth power of a'\n",
    "    return a*n\n",
    "\n",
    "# three different ways to call the function\n",
    "print(func(2))\n",
    "print(func(2, 3))\n",
    "print(func(2, n=4))"
   ]
  },
  {
   "cell_type": "code",
   "execution_count": 19,
   "id": "458f404d",
   "metadata": {},
   "outputs": [
    {
     "name": "stdout",
     "output_type": "stream",
     "text": [
      "2\n",
      "8\n",
      "8\n"
     ]
    }
   ],
   "source": [
    "def func(a=1, n=2):\n",
    "    'compute the nth power of a'\n",
    "    return a*n\n",
    "\n",
    "# three different ways to call the function\n",
    "print(func())\n",
    "print(func(2, 4))\n",
    "print(func(n=4, a=2))"
   ]
  },
  {
   "cell_type": "markdown",
   "id": "ee9a757e",
   "metadata": {},
   "source": [
    "Last example, defining a function for an ODE"
   ]
  },
  {
   "cell_type": "code",
   "execution_count": 20,
   "id": "b7c64163",
   "metadata": {},
   "outputs": [
    {
     "data": {
      "image/png": "[encoded data removed]",
      "text/plain": [
       "<Figure size 430x350 with 1 Axes>"
      ]
     },
     "metadata": {},
     "output_type": "display_data"
    }
   ],
   "source": [
    "from scipy.integrate import odeint\n",
    "import numpy as np\n",
    "import matplotlib.pyplot as plt\n",
    "\n",
    "k = 2.2\n",
    "def myode(y,t):\n",
    "    'ODE defining exponential growth'\n",
    "    return k*y\n",
    "\n",
    "y0 = 3\n",
    "tspan = np.linspace(0,1)\n",
    "y = odeint(myode, y0, tspan)\n",
    "\n",
    "fig = plt.figure(figsize=(4.3, 3.5))\n",
    "\n",
    "plt.plot(tspan, y, color='blue', ls='-')\n",
    "plt.xlabel('Time')\n",
    "plt.ylabel(r'$y$')\n",
    "\n",
    "#fig.savefig('./funcs-ode.png', dpi=600)\n",
    "\n",
    "plt.show()"
   ]
  },
  {
   "cell_type": "markdown",
   "id": "181e3b41",
   "metadata": {},
   "source": [
    "## `lambda`"
   ]
  },
  {
   "cell_type": "code",
   "execution_count": null,
   "id": "649d7bd3",
   "metadata": {},
   "outputs": [],
   "source": [
    "f = lambda x: 2*x\n",
    "print(f)\n",
    "print(f(2))"
   ]
  },
  {
   "cell_type": "markdown",
   "id": "76093c07",
   "metadata": {},
   "source": [
    "We can have more than one argument:"
   ]
  },
  {
   "cell_type": "code",
   "execution_count": null,
   "id": "17902168",
   "metadata": {},
   "outputs": [],
   "source": [
    "f = lambda x,y: x + y\n",
    "print(f)\n",
    "print(f(2, 3))"
   ]
  },
  {
   "cell_type": "code",
   "execution_count": null,
   "id": "75c6477b",
   "metadata": {},
   "outputs": [],
   "source": [
    "f = lambda x, y=3: x + y\n",
    "print(f)\n",
    "print(f(2))\n",
    "print(f(4, 1))"
   ]
  },
  {
   "cell_type": "markdown",
   "id": "6203cf7d",
   "metadata": {},
   "source": [
    "### Applications of lambda functions"
   ]
  },
  {
   "cell_type": "markdown",
   "id": "9972c4bb",
   "metadata": {},
   "source": [
    "For example, say you want to solve the nonlinear equation $\\sqrt{x}=2.5$"
   ]
  },
  {
   "cell_type": "code",
   "execution_count": null,
   "id": "c17b7c08",
   "metadata": {},
   "outputs": [],
   "source": [
    "from scipy.optimize import fsolve\n",
    "import numpy as np\n",
    "\n",
    "sol, = fsolve(lambda x: 2.5 - np.sqrt(x), 8)\n",
    "print(sol)"
   ]
  },
  {
   "cell_type": "markdown",
   "id": "7c50ed25",
   "metadata": {},
   "source": [
    "Another time to use lambda functions is if you want to set a particular value of a parameter in a function. Say we have a function with an independent variable, $x$ and a parameter a, i.e. $f(x; a)$. If we want to find a solution $f(x; a) = 0$ for some value of a, we can use a lambda function to make a function of the single variable $x$. Here is a example."
   ]
  },
  {
   "cell_type": "code",
   "execution_count": null,
   "id": "30750da6",
   "metadata": {},
   "outputs": [],
   "source": [
    "from scipy.optimize import fsolve\n",
    "import numpy as np\n",
    "\n",
    "def func(x, a):\n",
    "    return a * np.sqrt(x) - 4.0\n",
    "\n",
    "sol, = fsolve(lambda x: func(x, 3.2), 3)\n",
    "print(sol)"
   ]
  },
  {
   "cell_type": "markdown",
   "id": "ba35220c",
   "metadata": {},
   "source": [
    "We can evaluate the integral $\\int^{2}_{x=0} x^2 dx$ with a lambda function."
   ]
  },
  {
   "cell_type": "code",
   "execution_count": null,
   "id": "e8b94fe3",
   "metadata": {},
   "outputs": [],
   "source": [
    "from scipy.integrate import quad\n",
    "\n",
    "print(quad(lambda x: x**2, 0, 2))"
   ]
  },
  {
   "cell_type": "markdown",
   "id": "19df784e",
   "metadata": {},
   "source": [
    "## Creating arrays in python"
   ]
  },
  {
   "cell_type": "markdown",
   "id": "5e87b3c7",
   "metadata": {},
   "source": [
    "Here are examples of doing that to get the vectors as the columns."
   ]
  },
  {
   "cell_type": "code",
   "execution_count": null,
   "id": "ab19b9f9",
   "metadata": {},
   "outputs": [],
   "source": [
    "import numpy as np\n",
    "\n",
    "a = np.array([1, 2, 3])\n",
    "b = np.array([4, 5, 6])\n",
    "\n",
    "print(np.column_stack([a, b]))\n",
    "print('')\n",
    "# this means stack the arrays vertically, e.g. on top of each other\n",
    "print(np.vstack([a, b]).T)"
   ]
  },
  {
   "cell_type": "markdown",
   "id": "f54f2b79",
   "metadata": {},
   "source": [
    "Or rows:"
   ]
  },
  {
   "cell_type": "code",
   "execution_count": null,
   "id": "8fd1f69e",
   "metadata": {},
   "outputs": [],
   "source": [
    "import numpy as np\n",
    "\n",
    "a = np.array([1, 2, 3])\n",
    "b = np.array([4, 5, 6])\n",
    "\n",
    "print(np.row_stack([a, b]))\n",
    "print('')\n",
    "\n",
    "# this means stack the arrays vertically, e.g. on top of each other\n",
    "print(np.vstack([a, b]))"
   ]
  },
  {
   "cell_type": "code",
   "execution_count": null,
   "id": "19933b4f",
   "metadata": {},
   "outputs": [],
   "source": [
    "import numpy as np\n",
    "\n",
    "A = np.array([[1, 2, 3, 5],\n",
    "              [4, 5, 6, 9]])\n",
    "\n",
    "# split into two parts\n",
    "p1, p2 = np.hsplit(A, 2)\n",
    "print(p1)\n",
    "print('')\n",
    "print(p2)"
   ]
  },
  {
   "cell_type": "code",
   "execution_count": null,
   "id": "9bf28d41",
   "metadata": {},
   "outputs": [],
   "source": [
    "#split into 4 parts\n",
    "p1, p2, p3, p4 = np.hsplit(A, 4)\n",
    "print(p1)\n",
    "print('')\n",
    "print(p2)\n",
    "print('')\n",
    "print(p3)\n",
    "print('')\n",
    "print(p4)"
   ]
  },
  {
   "cell_type": "markdown",
   "id": "12f08c02",
   "metadata": {},
   "source": [
    "In the `numpy.vsplit` command the \"splits\" go \"vertically\" down the array. Note that the split commands return 2D arrays."
   ]
  },
  {
   "cell_type": "code",
   "execution_count": null,
   "id": "f7e70eef",
   "metadata": {},
   "outputs": [],
   "source": [
    "import numpy as np\n",
    "\n",
    "A = np.array([[1, 2, 3, 5],\n",
    "              [4, 5, 6, 9]])\n",
    "\n",
    "# split into two parts\n",
    "p1, p2 = np.vsplit(A, 2)\n",
    "print(p1)\n",
    "print('')\n",
    "print(p2)\n",
    "print('')\n",
    "print(p2.shape)"
   ]
  },
  {
   "cell_type": "markdown",
   "id": "409e5b68",
   "metadata": {},
   "source": [
    "An alternative approach is array unpacking. In this example, we unpack the array into two variables. The array unpacks by row."
   ]
  },
  {
   "cell_type": "code",
   "execution_count": null,
   "id": "1eb47bd8",
   "metadata": {},
   "outputs": [],
   "source": [
    "import numpy as np\n",
    "\n",
    "A = np.array([[1, 2, 3, 5],\n",
    "              [4, 5, 6, 9]])\n",
    "\n",
    "# split into two parts\n",
    "p1, p2 = A\n",
    "print(p1)\n",
    "print('')\n",
    "print(p2)"
   ]
  },
  {
   "cell_type": "markdown",
   "id": "8eb11c52",
   "metadata": {},
   "source": [
    "To get the columns, just transpose the array."
   ]
  },
  {
   "cell_type": "code",
   "execution_count": null,
   "id": "9d13aaef",
   "metadata": {},
   "outputs": [],
   "source": [
    "import numpy as np\n",
    "\n",
    "A = np.array([[1, 2, 3, 5],\n",
    "[4, 5, 6, 9]])\n",
    "\n",
    "# split into two parts\n",
    "p1, p2, p3, p4 = A.T\n",
    "\n",
    "print(p1)\n",
    "print('')\n",
    "print(p2)\n",
    "print('')\n",
    "print(p3)\n",
    "print('')\n",
    "print(p4)\n",
    "print('')\n",
    "print(p4.shape)"
   ]
  },
  {
   "cell_type": "markdown",
   "id": "b42a43d8",
   "metadata": {},
   "source": [
    "Note that now, we have 1D arrays.\n",
    "You can also access rows and columns by indexing. We index an array by **[row, column]**. To get a row, we specify the row number, and all the columns in that row like this **[row, :]**. Similarly, to get a column, we specify that we want all rows in that column like this: **[:, column]**. This approach is useful when you only want a few columns or rows."
   ]
  },
  {
   "cell_type": "code",
   "execution_count": null,
   "id": "b10a5bae",
   "metadata": {},
   "outputs": [],
   "source": [
    "import numpy as np\n",
    "\n",
    "A = np.array([[1, 2, 3, 5],\n",
    "              [4, 5, 6, 9]])\n",
    "\n",
    "# get row 1\n",
    "print(A[1])\n",
    "print(A[1, :]) # row 1, all columns\n",
    "\n",
    "print(A[:, 2]) # get third column\n",
    "print(A[:, 2].shape)"
   ]
  },
  {
   "cell_type": "markdown",
   "id": "88a958aa",
   "metadata": {},
   "source": [
    "## Functions on arrays of values"
   ]
  },
  {
   "cell_type": "markdown",
   "id": "d0b68829",
   "metadata": {},
   "source": [
    "Let us consider the value of the function $f(x)=\\cos{(x)}$ over the range of $0<x< \\pi$. We cannot consider every value in that range, but we can consider say 10 points in the range. The `func:numpy.linspace` conveniently creates an array of values."
   ]
  },
  {
   "cell_type": "code",
   "execution_count": null,
   "id": "36836271",
   "metadata": {},
   "outputs": [],
   "source": [
    "import numpy as np\n",
    "print(np.linspace(0, np.pi, 10))"
   ]
  },
  {
   "cell_type": "code",
   "execution_count": null,
   "id": "d3e5a50d",
   "metadata": {},
   "outputs": [],
   "source": [
    "import numpy as np\n",
    "x = np.linspace(0, np.pi, 10)\n",
    "print(np.cos(x))"
   ]
  },
  {
   "cell_type": "code",
   "execution_count": null,
   "id": "3e05b03f",
   "metadata": {},
   "outputs": [],
   "source": [
    "import matplotlib.pyplot as plt\n",
    "import numpy as np\n",
    "\n",
    "x = np.linspace(0, np.pi, 10)\n",
    "plt.plot(x, np.cos(x))\n",
    "plt.xlabel('x')\n",
    "plt.ylabel('cos(x)')\n",
    "#plt.savefig('images/plot-cos.png')\n",
    "plt.show()"
   ]
  },
  {
   "cell_type": "markdown",
   "id": "438c5e42",
   "metadata": {},
   "source": [
    "This figure illustrates graphically what the numbers above show. The function crosses zero at approximately $x = 1.5$. To get a more precise value, we must actually solve the function numerically. We use the function `func:scipy.optimize.fsolve` to do that. More precisely, we want to solve the equation $f(x)=\\cos{(x)}=0$. We create a function that defines that equation, and then use `func:scipy.optimize.fsolve` to solve it."
   ]
  },
  {
   "cell_type": "code",
   "execution_count": null,
   "id": "cc4b48fe",
   "metadata": {},
   "outputs": [],
   "source": [
    "from scipy.optimize import fsolve\n",
    "import numpy as np\n",
    "\n",
    "def f(x):\n",
    "    return np.cos(x)\n",
    "\n",
    "sol, = fsolve(f, x0=1.5) # the comma after sol makes it return a float\n",
    "print(sol)\n",
    "print(np.pi / 2)"
   ]
  },
  {
   "cell_type": "markdown",
   "id": "d06df0ae",
   "metadata": {},
   "source": [
    "We know the solution is π/2."
   ]
  },
  {
   "cell_type": "markdown",
   "id": "65a4c42a",
   "metadata": {},
   "source": [
    "## Some basic data structures in python"
   ]
  },
  {
   "cell_type": "markdown",
   "id": "6ab7f632",
   "metadata": {},
   "source": [
    "### the list\n",
    "\n",
    "A list in python is data separated by commas in square brackets. Here, we might store the following data in a variable to describe the Antoine coefficients for benzene and the range they are relevant for `[Tmin, Tmax]`. Lists are flexible, you can put anything in them, including other lists. We access the elements of the list by indexing:"
   ]
  },
  {
   "cell_type": "code",
   "execution_count": null,
   "id": "a389930e",
   "metadata": {},
   "outputs": [],
   "source": [
    "c = ['benzene', 6.9056, 1211.0, 220.79, [-16, 104]]\n",
    "\n",
    "print(c[0])\n",
    "print(c[-1])\n",
    "\n",
    "a, b = c[0:2]\n",
    "print(a, b)\n",
    "\n",
    "name, A, B, C, Trange = c\n",
    "print(Trange)"
   ]
  },
  {
   "cell_type": "markdown",
   "id": "21f4aa39",
   "metadata": {},
   "source": [
    "Lists are <span style=\"color: red\">\"mutable\"</span>, which means you can change their values."
   ]
  },
  {
   "cell_type": "code",
   "execution_count": null,
   "id": "4543f5a6",
   "metadata": {},
   "outputs": [],
   "source": [
    "a = [3, 4, 5, [7, 8], 'cat']\n",
    "\n",
    "print(a[0], a[-1])\n",
    "\n",
    "a[-1] = 'dog'\n",
    "print(a)"
   ]
  },
  {
   "cell_type": "markdown",
   "id": "a2efbbc1",
   "metadata": {},
   "source": [
    "### tuples"
   ]
  },
  {
   "cell_type": "markdown",
   "id": "11bb9110",
   "metadata": {},
   "source": [
    "Tuples are <span style=\"color: red\">\"immutable\"</span>; you cannot change their values. This is handy in cases where it is an error to change the value. A tuple is like a list but it is enclosed in parentheses"
   ]
  },
  {
   "cell_type": "code",
   "execution_count": null,
   "id": "fad80c46",
   "metadata": {},
   "outputs": [],
   "source": [
    "a = (3, 4, 5, [7, 8], 'cat')\n",
    "\n",
    "print(a[0], a[-1])\n",
    "\n",
    "a[-1] = 'dog'  # Uncommenting this line will raise an error"
   ]
  },
  {
   "cell_type": "markdown",
   "id": "1bec1a34",
   "metadata": {},
   "source": [
    "### struct\n",
    "\n",
    "Python does not exactly have the same thing as a struct in Matlab. You can achieve something like it by defining an empty class and then defining attributes of the class. You can check if an object has a particular attribute using `hasattr`."
   ]
  },
  {
   "cell_type": "code",
   "execution_count": null,
   "id": "421f0460",
   "metadata": {},
   "outputs": [],
   "source": [
    "class Antoine:\n",
    "    pass\n",
    "\n",
    "a = Antoine()\n",
    "a.name = 'benzene'\n",
    "a.Trange = [-16, 104]\n",
    "\n",
    "print(a.name)\n",
    "print(hasattr(a, 'Trange'))\n",
    "print(hasattr(a, 'A'))"
   ]
  },
  {
   "cell_type": "markdown",
   "id": "26ca8662",
   "metadata": {},
   "source": [
    "### dictionaries\n",
    "\n",
    "The analog of the containers.Map in Matlab is the dictionary in python. Dictionaries are enclosed in curly brackets, and are composed of key:value pairs"
   ]
  },
  {
   "cell_type": "code",
   "execution_count": null,
   "id": "46372804",
   "metadata": {},
   "outputs": [],
   "source": [
    "s = {\n",
    "    'name': 'benzene',\n",
    "    'A': 6.9056,\n",
    "    'B': 1211.0\n",
    "}\n",
    "\n",
    "s['C'] = 220.79\n",
    "s['Trange'] = [-16, 104]\n",
    "\n",
    "print(s)\n",
    "print(s['Trange'])"
   ]
  },
  {
   "cell_type": "code",
   "execution_count": null,
   "id": "1e06c501",
   "metadata": {},
   "outputs": [],
   "source": [
    "s = {\n",
    "    'name': 'benzene',\n",
    "    'A': 6.9056,\n",
    "    'B': 1211.0\n",
    "}\n",
    "\n",
    "print('C' in s)\n",
    "# default value for keys not in the dictionary\n",
    "print(s.get('C', None))\n",
    "\n",
    "print(s.keys())\n",
    "print(s.values())"
   ]
  },
  {
   "cell_type": "markdown",
   "id": "16b128c8",
   "metadata": {},
   "source": [
    "## Indexing vectors and arrays in Python"
   ]
  },
  {
   "cell_type": "markdown",
   "id": "4a8c3767",
   "metadata": {},
   "source": [
    "### 1-d arrays"
   ]
  },
  {
   "cell_type": "code",
   "execution_count": null,
   "id": "6297b883",
   "metadata": {},
   "outputs": [],
   "source": [
    "import numpy as np\n",
    "\n",
    "x = np.linspace(-np.pi, np.pi, 10)\n",
    "print(x)\n",
    "\n",
    "print(x[0])  # first element\n",
    "print(x[2])  # third element\n",
    "print(x[-1]) # last element\n",
    "print(x[-2]) # second to last element"
   ]
  },
  {
   "cell_type": "markdown",
   "id": "6a657dd2",
   "metadata": {},
   "source": [
    "We can select a range of elements too. The syntax a:b extracts the aˆ{th} to (b-1)ˆ{th} elements. The syntax a:b:n starts at a, skips nelements up to the index b."
   ]
  },
  {
   "cell_type": "code",
   "execution_count": null,
   "id": "7463f864",
   "metadata": {},
   "outputs": [],
   "source": [
    "print(x[1:4])       # second to fourth element. Element 5 is not included\n",
    "print(x[0:-1:2])    # every other element\n",
    "print(x[:])         # print the whole vector\n",
    "print(x[-1:0:-1])   # reverse the vector!"
   ]
  },
  {
   "cell_type": "markdown",
   "id": "0fe8e85b",
   "metadata": {},
   "source": [
    "Suppose we want the part of the vector where x > 2"
   ]
  },
  {
   "cell_type": "code",
   "execution_count": null,
   "id": "0bbd252d",
   "metadata": {},
   "outputs": [],
   "source": [
    "print(x[x > 2])"
   ]
  },
  {
   "cell_type": "code",
   "execution_count": null,
   "id": "46ec0cc9",
   "metadata": {},
   "outputs": [],
   "source": [
    "y = np.sin(x)\n",
    "\n",
    "print(np.trapz( x[x > 2], y[x > 2]))"
   ]
  },
  {
   "cell_type": "markdown",
   "id": "adb89e66",
   "metadata": {},
   "source": [
    "### 2d arrays"
   ]
  },
  {
   "cell_type": "code",
   "execution_count": null,
   "id": "77145b74",
   "metadata": {},
   "outputs": [],
   "source": [
    "import numpy as np\n",
    "\n",
    "a = np.array([[1, 2, 3],\n",
    "              [4, 5, 6],\n",
    "              [7, 8, 9]])\n",
    "\n",
    "print(a[0, 0])     # first element of the first row\n",
    "print(a[-1, -1])   # last element of the last row\n",
    "\n",
    "print(a[0, :])     # row one\n",
    "print(a[:, 0])     # column one\n",
    "print(a[:])        # print the whole matrix"
   ]
  },
  {
   "cell_type": "markdown",
   "id": "774b1a0c",
   "metadata": {},
   "source": [
    "### Using indexing to assign values to rows and columns"
   ]
  },
  {
   "cell_type": "code",
   "execution_count": null,
   "id": "5e8cc6b2",
   "metadata": {},
   "outputs": [],
   "source": [
    "import numpy as np\n",
    "\n",
    "b = np.zeros((3, 3))\n",
    "print(b)\n",
    "\n",
    "b[:, 0] = [1, 2, 3]  # set column 0\n",
    "b[2, 2] = 12         # set a single element\n",
    "print(b)\n",
    "\n",
    "b[2] = 6             # sets everything in row 2 to 6!\n",
    "print(b)"
   ]
  },
  {
   "cell_type": "markdown",
   "id": "575896cb",
   "metadata": {},
   "source": [
    "We flatten the array to 1D, do the linear assignment, and reshape the\n",
    "result back to the 2D array."
   ]
  },
  {
   "cell_type": "code",
   "execution_count": null,
   "id": "efaece12",
   "metadata": {},
   "outputs": [],
   "source": [
    "import numpy as np\n",
    "\n",
    "c = b.flatten()\n",
    "c[2] = 34\n",
    "b[:] = c.reshape(b.shape)\n",
    "print(b)"
   ]
  },
  {
   "cell_type": "markdown",
   "id": "74db4937",
   "metadata": {},
   "source": [
    "### 3D arrays"
   ]
  },
  {
   "cell_type": "code",
   "execution_count": null,
   "id": "4bccecc9",
   "metadata": {},
   "outputs": [],
   "source": [
    "M = np.random.uniform(size=(3,3,3)) # a 3x3x3 array\n",
    "print(M)"
   ]
  },
  {
   "cell_type": "code",
   "execution_count": null,
   "id": "8a3756b5",
   "metadata": {},
   "outputs": [],
   "source": [
    "print(M[:, :, 0])    # 2d array on page 0\n",
    "print('')\n",
    "print(M[:, 0, 0])    # column 0 on page 0\n",
    "print('')\n",
    "print(M[1, :, 2])    # row 1 on page 2\n",
    "print('')"
   ]
  },
  {
   "cell_type": "markdown",
   "id": "129db5a8",
   "metadata": {},
   "source": [
    "## Controlling the format of printed variables"
   ]
  },
  {
   "cell_type": "markdown",
   "id": "3c52def2",
   "metadata": {},
   "source": [
    "Often you will want to control the way a variable is printed. You may want to only show a\n",
    "few decimal places, or print in scientific notation, or embed the result in a string. Here are some\n",
    "examples of printing with no control over the format."
   ]
  },
  {
   "cell_type": "code",
   "execution_count": null,
   "id": "dea4b253",
   "metadata": {},
   "outputs": [],
   "source": [
    "a = 2./3\n",
    "print(a)\n",
    "print(1/3)\n",
    "print(1./3.)\n",
    "print(10.1)\n",
    "print(\"Avogadro's number is \", 6.022e23, '.')"
   ]
  },
  {
   "cell_type": "markdown",
   "id": "157da486",
   "metadata": {},
   "source": [
    "The specifier has the general form \"w.df\" where w is the\n",
    "width of the field, and d is the number of decimals, and f indicates a float number. \"1.3f\" means to\n",
    "print a float number with 3 decimal places. Here is an example."
   ]
  },
  {
   "cell_type": "code",
   "execution_count": null,
   "id": "6c69cd60",
   "metadata": {},
   "outputs": [],
   "source": [
    "print('The value of 1/3 to 3 decimal places is {0:1.3f}'.format(1./3.))"
   ]
  },
  {
   "cell_type": "markdown",
   "id": "d9f70701",
   "metadata": {},
   "source": [
    "In that example, the 0 in {0:1.3f} refers to the first (and only) argument to the format function.\n",
    "If there is more than one argument, we can refer to them like this:"
   ]
  },
  {
   "cell_type": "code",
   "execution_count": null,
   "id": "ff836ac9",
   "metadata": {},
   "outputs": [],
   "source": [
    "print('Value 0 = {0:1.3f}, value 1 = {1:1.3f}, value 0 = {0:1.3f}'.format(1./3., 1./6.))"
   ]
  },
  {
   "cell_type": "markdown",
   "id": "d8842058",
   "metadata": {},
   "source": [
    "Note you can refer to the same argument more than once, and in arbitrary order within the\n",
    "string.\n",
    "Suppose you have a list of numbers you want to print out, like this:"
   ]
  },
  {
   "cell_type": "code",
   "execution_count": null,
   "id": "9c0daa1b",
   "metadata": {},
   "outputs": [],
   "source": [
    "for x in [1./3., 1./6., 1./9.]:\n",
    "    print('The answer is {0:1.2f}'.format(x))"
   ]
  },
  {
   "cell_type": "markdown",
   "id": "39099ca8",
   "metadata": {},
   "source": [
    "The \"g\" format specifier is a general format that can be used to indicate a precision, or to\n",
    "indicate significant digits. To print a number with a specific number of significant digits we do this:"
   ]
  },
  {
   "cell_type": "code",
   "execution_count": null,
   "id": "5295825d",
   "metadata": {},
   "outputs": [],
   "source": [
    "print('{0:1.3g}'.format(1./3.))\n",
    "print('{0:1.3g}'.format(4./3.))"
   ]
  },
  {
   "cell_type": "markdown",
   "id": "8bfb389f",
   "metadata": {},
   "source": [
    "We can also specify plus or minus signs. Compare the next two outputs."
   ]
  },
  {
   "cell_type": "code",
   "execution_count": null,
   "id": "8d885a08",
   "metadata": {},
   "outputs": [],
   "source": [
    "for x in [-1., 1.]:\n",
    "    print('{0:1.2f}'.format(x))"
   ]
  },
  {
   "cell_type": "markdown",
   "id": "137e549f",
   "metadata": {},
   "source": [
    "You can see the decimals do not align. That is because there is a minus sign in front of one\n",
    "number. We can specify to show the sign for positive and negative numbers, or to pad positive\n",
    "numbers to leave space for positive numbers."
   ]
  },
  {
   "cell_type": "code",
   "execution_count": null,
   "id": "edb30400",
   "metadata": {},
   "outputs": [],
   "source": [
    "for x in [-1., 1.]:\n",
    "    print('{0:+1.2f}'.format(x))  # explicit sign\n",
    "\n",
    "for x in [-1., 1.]:\n",
    "    print('{0: 1.2f}'.format(x))  # pad positive numbers with a space"
   ]
  },
  {
   "cell_type": "markdown",
   "id": "a8f9d14d",
   "metadata": {},
   "source": [
    "We use the \"e\" or \"E\" format modifier to specify scientific notation."
   ]
  },
  {
   "cell_type": "code",
   "execution_count": null,
   "id": "b8833d56",
   "metadata": {},
   "outputs": [],
   "source": [
    "import numpy as np\n",
    "\n",
    "eps = np.finfo(np.double).eps\n",
    "print(eps)\n",
    "print('{0}'.format(eps))\n",
    "print('{0:1.2f}'.format(eps))\n",
    "print('{0:1.2e}'.format(eps))  # exponential notation\n",
    "print('{0:1.2E}'.format(eps))  # exponential notation with capital E"
   ]
  },
  {
   "cell_type": "markdown",
   "id": "9f1e9f51",
   "metadata": {},
   "source": [
    "As a float with 2 decimal places, that very small number is practically equal to 0.\n",
    "We can even format percentages. Note you do not need to put the % in your string."
   ]
  },
  {
   "cell_type": "code",
   "execution_count": null,
   "id": "ab763818",
   "metadata": {},
   "outputs": [],
   "source": [
    "print('the fraction {0} corresponds to {0:1.0%}'.format(0.78))"
   ]
  },
  {
   "cell_type": "code",
   "execution_count": null,
   "id": "caadf8e0",
   "metadata": {},
   "outputs": [],
   "source": []
  }
 ],
 "metadata": {
  "kernelspec": {
   "display_name": "Python 3 (ipykernel)",
   "language": "python",
   "name": "python3"
  },
  "language_info": {
   "codemirror_mode": {
    "name": "ipython",
    "version": 3
   },
   "file_extension": ".py",
   "mimetype": "text/x-python",
   "name": "python",
   "nbconvert_exporter": "python",
   "pygments_lexer": "ipython3",
   "version": "3.11.4"
  }
 },
 "nbformat": 4,
 "nbformat_minor": 5
}
